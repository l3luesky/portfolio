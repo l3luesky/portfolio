{
 "cells": [
  {
   "cell_type": "code",
   "execution_count": null,
   "id": "4ef8bdc0",
   "metadata": {},
   "outputs": [],
   "source": [
    "pip install Flask"
   ]
  },
  {
   "cell_type": "code",
   "execution_count": 2,
   "id": "b07a1d8d",
   "metadata": {
    "ExecuteTime": {
     "end_time": "2023-03-30T06:02:45.732225Z",
     "start_time": "2023-03-30T06:02:45.387149Z"
    }
   },
   "outputs": [],
   "source": [
    "from flask import Flask, jsonify, request, Response\n",
    "from flask import redirect,render_template\n",
    "import urllib.request"
   ]
  },
  {
   "cell_type": "code",
   "execution_count": null,
   "id": "9bafd887",
   "metadata": {},
   "outputs": [],
   "source": []
  },
  {
   "cell_type": "code",
   "execution_count": 3,
   "id": "b8660dfa",
   "metadata": {
    "ExecuteTime": {
     "end_time": "2023-03-30T09:05:35.501394Z",
     "start_time": "2023-03-30T06:02:50.133746Z"
    }
   },
   "outputs": [
    {
     "name": "stdout",
     "output_type": "stream",
     "text": [
      " * Serving Flask app \"__main__\" (lazy loading)\n",
      " * Environment: production\n",
      "\u001b[31m   WARNING: This is a development server. Do not use it in a production deployment.\u001b[0m\n",
      "\u001b[2m   Use a production WSGI server instead.\u001b[0m\n",
      " * Debug mode: off\n"
     ]
    },
    {
     "name": "stderr",
     "output_type": "stream",
     "text": [
      " * Running on http://localhost:8083/ (Press CTRL+C to quit)\n",
      "127.0.0.1 - - [30/Mar/2023 15:03:04] \"GET / HTTP/1.1\" 302 -\n"
     ]
    }
   ],
   "source": [
    "app = Flask(__name__)\n",
    "\n",
    "@app.route(\"/\")\n",
    "def test():\n",
    "    if request.method == 'GET':\n",
    "        data = ['한식,중식,양식']\n",
    "\n",
    "        import pandas as pd\n",
    "        from numpy.linalg import norm\n",
    "        from numpy import dot\n",
    "\n",
    "\n",
    "        pre_test = pd.read_csv('pre_test.csv', index_col=0)\n",
    "        reviews = pre_test.iloc[:,2].str.split(\",\")\n",
    "\n",
    "        # 리뷰 데이터 벡터화\n",
    "        def make_matrix(cate_1, blog_review) :\n",
    "            freq_list = []\n",
    "            for cate in cate_1 :\n",
    "                freq = 0\n",
    "                for review in blog_review :\n",
    "                    if cate == review :\n",
    "                        freq += 1\n",
    "                freq_list.append(freq)\n",
    "            return freq_list\n",
    "\n",
    "        # 코사인 유사도\n",
    "        def cos_sim(a, b) :\n",
    "            if norm(a)*norm(b) == 0.0 : # 분모가 0 인 경우 오류가 발생한다.\n",
    "                return 0\n",
    "            else :\n",
    "                return dot(a, b)/(norm(a)*norm(b)) # 분자가 0 인 경우 값은 0.0을 return 한다.\n",
    "            return \"Hello World\"\n",
    "\n",
    "        def category(cates):\n",
    "            a = []\n",
    "            for cate in cates:\n",
    "                if cate == '분식':\n",
    "                    a += ['분식','떡볶이', '만두' ,'튀김' ,'포장' ,'국물', '분식', '배달', '꼬마', '소스', '치즈', '세트', \n",
    "                     '맵다' ,'라면', '분식집', '어묵' ,'상추튀김', '돈까스' ,'매콤' ,'새우' ,'야채', '우동',\n",
    "                     '순대', '고추' ,'계란', '오뎅', '찐빵', '주먹밥', '양념', '오징어', '조합', '쫄면', '간식',\n",
    "                     '튀기다', '김말이', '따뜻하다', '육수', '옛날', '동네', '고구마' ,'달달', '상추',\n",
    "                     '밀떡', '당면', '가래떡', '수제', '잔치국수', '탕수육', '핫도그', '소세지', '꼬치',\n",
    "                     '쫀득', '라볶이', '닭강정', '호떡']\n",
    "                elif cate == '한식':\n",
    "                    a += ['구이', '곱창', '떡갈비', '맵다', '보쌈', '숯불', '돼지', '한우', '볶음밥', '냉면',\n",
    "                     '소고기', '콩나물', '감자탕', '마늘', '라면', '치킨', '김치찌개', '추어탕', '고추',\n",
    "                     '튀김', '곰탕', '버섯','무치다', '조개', '대창', '묵은지', '국수', '상추',  '닭발', '간장',\n",
    "                     '비빔밥', '계란찜', '찜', '장어', '깍두기', '육수', '게장', '돼지갈비', '찌개', '대패',\n",
    "                     '껍데기','칼국수', '육회', '부고기', '깻잎', '만두', '부추', '코다리', '누룽지', '김밥', \n",
    "                     '애호박', '닭갈비', '삼계탕', '나물', '쌈장','들깨', '부대찌개', '아구찜', '백숙', '꽃게',\n",
    "                     '해물', '감자', '전복', '생선', '설렁탕', '공기밥', '짬뽕', '오리탕', '오징어', '한식', '굴비',\n",
    "                     '두부','오뎅', '장아찌', '막국수']\n",
    "                elif cate == '별식/퓨전요리':\n",
    "                    a += ['별식','퓨전','샤브샤브', '쌀국수', '베트남', '고기', '야채', '샤브', '소고기', '하노이', '칠리', '계란',\n",
    "                     '매콤', '치즈', '버섯', '숙주', '고추','월남쌈', '막국수', '태국', '취향', '어묵', '팟타이',\n",
    "                     '국수', '짜조', '사리', '칠리소스', '와사비', '동남아', '오징어','카레', '아보카도', '토마토',\n",
    "                     '청경채', '망고', '바나나', '타이완', '산미', '인도', '훠거']\n",
    "                elif cate == '패스트푸드':\n",
    "                    a += ['피자', '도넛', '치킨', '버거', '배달', '샌드위치', '핫도그', '토스트', '햄버거',\n",
    "                          '도우', '피클', '크리스피크림', '포테이토', '아메리칸', '갈릭', '패티', '페퍼로니',\n",
    "                          '에그', '마늘', '새우', '베이컨', '샐러드', '핫소스','도너츠', '콤비네이션', '치즈볼',\n",
    "                          '츄러스', '치즈스틱', '아보카도', '콰트로', '레귤러', '오징어', '불고기',  '프렌치프라이',\n",
    "                          '윙봉', '멕시칸', '토핑', '드라이브스루']\n",
    "                elif cate == '중식':\n",
    "                    a += ['짬뽕','탕수육','중국집','짜장','짜장면','반점','중식','볶음밥','깐풍기','중화요리',\n",
    "                          '간짜장','만두','쟁반짜장','중화','삼선짬뽕','해물짬뽕','중국요리','유니짜장','자장면',\n",
    "                          '중국음식']\n",
    "                elif cate == '닭/오리요리':\n",
    "                    a += ['닭','오리','닭갈비', '찜닭', '오리', '백숙', '삼계탕', '고기', '오리탕', '홍춘', '오리고기', '소스',\n",
    "                          '닭도리탕', '당면', '오리궁', '튀김', '닭볶음탕', '닭고기', '안동찜닭', '보양식', '유황오리',\n",
    "                          '닭다리', '반계', '메추리']\n",
    "                elif cate == '일식/수산물':\n",
    "                    a += ['일식','수산물','초밥', '참치', '장어', '새우' ,'연어', '아구찜' ,'구이', '우동', '국물', '생선',\n",
    "                          '스시' ,'간장','와사비', '낙지', '쭈꾸미', '생태', '고등어', '텐동', '사시미', '광어',\n",
    "                          '수산', '뱃살' ,'식감', '동태', '횟집', '이자카야', '아구', '민물장어', '카츠', '찜',\n",
    "                          '일본' ,'오징어','해물', '샤브샤브' ,'전복', '연어추밥', '해물찜', '해물탕', '소바',\n",
    "                          '바다', '참치회' ,'대구', '장어구이', '해산물', '갈치' ,'라멘' ,'풍천', '바다장어',\n",
    "                          '꽃게' ,'알탕', '초장','소라', '하모', '방어', '조개' ,'비리다' ,'회전초밥', '가리비',\n",
    "                          '락교', '다다미', '차슈' ,'매운탕', '어회', '멍게', '사케', '돈부리', '스끼' ,'꼼장어',\n",
    "                          '우럭', '참다랑어' ]\n",
    "                elif cate == '양식':\n",
    "                    a += ['양식','파스타', '돈까스', '치즈', '피자', '샐러드', '와인', '크림', '스테이크', '돈가스',\n",
    "                          '새우', '브런치', '양식', '버거', '레스토랑', '스파게티', '카츠', '칵테일', '디저트',\n",
    "                          '리조또', '토마토', '토스트', '리브', '베이컨', '연어', '필라프', '바베큐', '타코',\n",
    "                          '뉴욕', '피클', '스프', '그릭', '로제', '타오', '비주', '피자헛', '에니그마', '갈릭',\n",
    "                          '크랩', '버터', '오일', '안심', '까르보나라', '모짜렐라', '에그', '카레', '파히타',\n",
    "                          '알리오', '트러플', '쿠키', '소세지', '샌드위치']\n",
    "                else :\n",
    "                    a += ['무한리필', '뷔페', '한우', '새우', '삼겹살', '김치', '셀프', '우삼겹', '볶음밥', '메뉴',\n",
    "                          '사리', '국물', '치즈', '음료', '밑반찬', '회식', '리필', '사이드', '훈제오리', '육회',\n",
    "                          '피클', '사이다', '미린다', '테라']\n",
    "            return a\n",
    "\n",
    "        cate = category(data)\n",
    "        # 벡터를 담을 리스트\n",
    "        a= [1 for x in range(len(cate))]\n",
    "        vector = {}\n",
    "        # 전처리된 리뷰데이터 를 벡터로 만들자\n",
    "        for i in range(0,len(reviews)):\n",
    "            vector[i] = make_matrix(cate,reviews[i])\n",
    "        vector # 결과값 확인\n",
    "\n",
    "        result = []\n",
    "        for i in vector.values():\n",
    "            result.append(cos_sim(a,i))\n",
    "\n",
    "        result2 = pd.concat([pre_test.iloc[:,0], pd.DataFrame(result)], axis=1)\n",
    "        result2.columns = [\"음식점\",\"유사도\"]\n",
    "        result3 = result2.sort_values(by=\"유사도\", ascending=False)\n",
    "        result4 = result3[:18].iloc[:,0]\n",
    "        luncuList = []\n",
    "\n",
    "        for i in result4 :\n",
    "            luncuList.append(i)\n",
    "    return redirect('http://localhost:8081/lunchu/LunchuList.jsp?first='+luncuList[0]+'&second='+luncuList[1]\n",
    "                   +'&third='+luncuList[2]+'&fourth='+luncuList[3]+'&fifth='+luncuList[4]\n",
    "                   +'&sixth='+luncuList[5]+'&seventh='+luncuList[6]+'&eighth='+luncuList[7]\n",
    "                   +'&ninth='+luncuList[8]+'&tenth='+luncuList[9]+'&eleventh='+luncuList[10]\n",
    "                   +'&twelfth='+luncuList[11]+'&thirteenth='+luncuList[12]+'&fourteenth='+luncuList[13]\n",
    "                   +'&fifteenth='+luncuList[14]+'&sixteenth='+luncuList[15]+'&seventeenth='+luncuList[16]\n",
    "                    +'&eighteenth='+luncuList[17])\n",
    "\n",
    "if __name__ == \"__main__\":\n",
    "    app.run(host=\"localhost\", port=8083)"
   ]
  },
  {
   "cell_type": "code",
   "execution_count": null,
   "id": "9cc39310",
   "metadata": {},
   "outputs": [],
   "source": []
  },
  {
   "cell_type": "code",
   "execution_count": null,
   "id": "e035ac69",
   "metadata": {},
   "outputs": [],
   "source": []
  },
  {
   "cell_type": "code",
   "execution_count": null,
   "id": "eb83c702",
   "metadata": {},
   "outputs": [],
   "source": []
  },
  {
   "cell_type": "code",
   "execution_count": null,
   "id": "0d340a31",
   "metadata": {},
   "outputs": [],
   "source": []
  }
 ],
 "metadata": {
  "kernelspec": {
   "display_name": "Python 3 (ipykernel)",
   "language": "python",
   "name": "python3"
  },
  "language_info": {
   "codemirror_mode": {
    "name": "ipython",
    "version": 3
   },
   "file_extension": ".py",
   "mimetype": "text/x-python",
   "name": "python",
   "nbconvert_exporter": "python",
   "pygments_lexer": "ipython3",
   "version": "3.9.13"
  },
  "toc": {
   "base_numbering": 1,
   "nav_menu": {},
   "number_sections": true,
   "sideBar": true,
   "skip_h1_title": false,
   "title_cell": "Table of Contents",
   "title_sidebar": "Contents",
   "toc_cell": false,
   "toc_position": {},
   "toc_section_display": true,
   "toc_window_display": false
  }
 },
 "nbformat": 4,
 "nbformat_minor": 5
}
